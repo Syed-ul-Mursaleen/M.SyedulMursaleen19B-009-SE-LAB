{
 "cells": [
  {
   "cell_type": "markdown",
   "metadata": {},
   "source": [
    "# LAB3"
   ]
  },
  {
   "cell_type": "code",
   "execution_count": 2,
   "metadata": {},
   "outputs": [
    {
     "name": "stdout",
     "output_type": "stream",
     "text": [
      "Sum is::  32\n",
      "Difference is :  -12\n",
      "Product is  220\n",
      "Division is 0.45454545454545453\n",
      "Integer Divisionis:  0\n",
      "Raised to the power is :  10000000000000000000000\n",
      "Remainder is:  10\n"
     ]
    }
   ],
   "source": [
    "#program-1\n",
    "a=10\n",
    "b=22\n",
    "#Using sum operator\n",
    "print(\"Sum is:: \",a+b)\n",
    "#Using subtract operator\n",
    "print(\"Difference is : \",a-b)\n",
    "#Using multiplication operator\n",
    "print(\"Product is \",a*b)\n",
    "#Using Division Operator\n",
    "print(\"Division is\",a/b)\n",
    "#Using integer division operator\n",
    "print(\"Integer Divisionis: \",a//b)\n",
    "#Using power operator\n",
    "print(\"Raised to the power is : \",a**b)\n",
    "#Using modulos Operator\n",
    "print(\"Remainder is: \",a%b)"
   ]
  },
  {
   "cell_type": "code",
   "execution_count": 3,
   "metadata": {},
   "outputs": [
    {
     "name": "stdout",
     "output_type": "stream",
     "text": [
      "8\n",
      "2\n",
      "15\n",
      "1.6666666666666667\n",
      "2\n",
      "1\n",
      "125\n",
      "1\n",
      "7\n",
      "6\n",
      "0\n",
      "40\n"
     ]
    }
   ],
   "source": [
    "#program-2\n",
    "x=5\n",
    "x+=3\n",
    "print(x)\n",
    "x=5\n",
    "x-=3\n",
    "print(x)\n",
    "x=5\n",
    "x*=3\n",
    "print(x)\n",
    "x=5\n",
    "x/=3\n",
    "print(x)\n",
    "x=5\n",
    "x%=3\n",
    "print(x)\n",
    "x=5\n",
    "x//=3\n",
    "print(x)\n",
    "x=5\n",
    "x**=3\n",
    "print(x)\n",
    "x=5\n",
    "x&=3\n",
    "print(x)\n",
    "x=5\n",
    "x|=3\n",
    "print(x)\n",
    "x=5\n",
    "x^=3\n",
    "print(x)\n",
    "x=5\n",
    "x>>=3\n",
    "print(x)\n",
    "x=5\n",
    "x<<=3\n",
    "print(x)"
   ]
  },
  {
   "cell_type": "code",
   "execution_count": 4,
   "metadata": {},
   "outputs": [
    {
     "name": "stdout",
     "output_type": "stream",
     "text": [
      "X is equal to Y: False\n",
      "X is not equal to Y: True\n",
      "X is Greater than Y: True\n",
      "X is less than Y: False\n",
      "X is Greater than or equal to Y: True\n",
      "X is equal to Y: False\n"
     ]
    }
   ],
   "source": [
    "#program-3\n",
    "x=20\n",
    "y=15\n",
    "print(\"X is equal to Y:\",x==y)\n",
    "print(\"X is not equal to Y:\",x!=y)\n",
    "print(\"X is Greater than Y:\",x>y)\n",
    "print(\"X is less than Y:\",x<y)\n",
    "print(\"X is Greater than or equal to Y:\",x>=y)\n",
    "print(\"X is equal to Y:\",x<=y)"
   ]
  },
  {
   "cell_type": "code",
   "execution_count": 5,
   "metadata": {},
   "outputs": [
    {
     "name": "stdout",
     "output_type": "stream",
     "text": [
      "True\n",
      "True\n",
      "False\n"
     ]
    }
   ],
   "source": [
    "#program-4\n",
    "x=15\n",
    "print(x>13 and x<20)\n",
    "x=25\n",
    "print(x>23 or x<24)\n",
    "x=35\n",
    "print(not(x>33 and x<40))"
   ]
  },
  {
   "cell_type": "code",
   "execution_count": 6,
   "metadata": {},
   "outputs": [
    {
     "name": "stdout",
     "output_type": "stream",
     "text": [
      "True\n",
      "False\n",
      "True\n"
     ]
    }
   ],
   "source": [
    "#program-5\n",
    "x=[\"ahmed\",\"bashir\"]\n",
    "y=[\"ahmed\",\"bashir\"]\n",
    "z=x\n",
    "print(x is z)\n",
    "print(x is y)\n",
    "print(x==y)"
   ]
  },
  {
   "cell_type": "code",
   "execution_count": 7,
   "metadata": {},
   "outputs": [
    {
     "name": "stdout",
     "output_type": "stream",
     "text": [
      "False\n",
      "True\n",
      "False\n"
     ]
    }
   ],
   "source": [
    "#program-6\n",
    "x=[\"ahmed\",\"bashir\"]\n",
    "y=[\"ahmed\",\"bashir\"]\n",
    "z=x\n",
    "print(x is not z)\n",
    "print(x is not y)\n",
    "print(x!=y)"
   ]
  },
  {
   "cell_type": "code",
   "execution_count": 8,
   "metadata": {},
   "outputs": [
    {
     "name": "stdout",
     "output_type": "stream",
     "text": [
      "True\n"
     ]
    }
   ],
   "source": [
    "#program-7\n",
    "x=[\"wasim\",\"lubaid\",\"shahroz\",\"usman\",\"faisal\",\"farhan\"]\n",
    "print(\"faisal\" in x)"
   ]
  },
  {
   "cell_type": "code",
   "execution_count": 9,
   "metadata": {},
   "outputs": [
    {
     "name": "stdout",
     "output_type": "stream",
     "text": [
      "True\n"
     ]
    }
   ],
   "source": [
    "#program-8\n",
    "x=[\"wasim\",\"lubaid\",\"shahroz\",\"usman\",\"faisal\",\"farhan\"]\n",
    "print(\"parkash\" not in x)"
   ]
  },
  {
   "cell_type": "code",
   "execution_count": 12,
   "metadata": {},
   "outputs": [
    {
     "name": "stdout",
     "output_type": "stream",
     "text": [
      "Give me a velocity to fire at (in m/s):3\n",
      "Give me how far away you are from the structure: 4\n",
      "Give me an angle to fire at: 33\n",
      "Give me the height of the structure(in meters): 4\n",
      "107.99808742128124 m/s\n"
     ]
    }
   ],
   "source": [
    "## program-9\n",
    "import math\n",
    "#User inputs\n",
    "velocity= float(input('Give me a velocity to fire at (in m/s):'))\n",
    "angle=float(input(\"Give me how far away you are from the structure: \"))\n",
    "distance=float(input(\"Give me an angle to fire at: \"))\n",
    "height=float(input(\"Give me the height of the structure(in meters): \"))\n",
    "slingshot=5 #Height of slingshot in meters\n",
    "gravity= 9.8 # Earth gravity\n",
    "#Converting angles to radians\n",
    "angleRad=math.radians(angle)\n",
    "#Computing our x and y coordinate\n",
    "x=math.cos(angleRad)\n",
    "y=math.sin(angleRad)\n",
    "#Calculations\n",
    "time=distance/(velocity*x)\n",
    "vx=x\n",
    "vy=y+(-9.8*time)\n",
    "finalVelocity=math.sqrt((vx**2)+(vy**2))\n",
    "print(finalVelocity,\"m/s\")"
   ]
  }
 ],
 "metadata": {
  "kernelspec": {
   "display_name": "Python 3",
   "language": "python",
   "name": "python3"
  },
  "language_info": {
   "codemirror_mode": {
    "name": "ipython",
    "version": 3
   },
   "file_extension": ".py",
   "mimetype": "text/x-python",
   "name": "python",
   "nbconvert_exporter": "python",
   "pygments_lexer": "ipython3",
   "version": "3.6.5"
  }
 },
 "nbformat": 4,
 "nbformat_minor": 2
}
