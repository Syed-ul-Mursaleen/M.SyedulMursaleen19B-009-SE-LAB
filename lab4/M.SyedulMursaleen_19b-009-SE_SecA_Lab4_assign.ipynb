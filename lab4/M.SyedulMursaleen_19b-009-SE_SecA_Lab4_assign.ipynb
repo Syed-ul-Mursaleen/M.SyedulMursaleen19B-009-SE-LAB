{
 "cells": [
  {
   "cell_type": "markdown",
   "metadata": {},
   "source": [
    "# M.Syed-ul-Mursaleen 19B-009-SE Section A"
   ]
  },
  {
   "cell_type": "markdown",
   "metadata": {},
   "source": [
    "#Program Exercise"
   ]
  },
  {
   "cell_type": "code",
   "execution_count": 7,
   "metadata": {},
   "outputs": [
    {
     "name": "stdout",
     "output_type": "stream",
     "text": [
      "Enter value of a: 1\n",
      "Enter value of b: 2\n",
      "Enter value of c: 1\n",
      "x1=  -1.0 x2=  -2.0\n"
     ]
    }
   ],
   "source": [
    "#program-1\n",
    "from math import sqrt\n",
    "import cmath\n",
    "a=eval(input(\"Enter value of a: \"))\n",
    "b=eval(input(\"Enter value of b: \"))\n",
    "c=eval(input(\"Enter value of c: \"))\n",
    "\n",
    "if a == 0:\n",
    "    print(\"equation can not be solve due to zero division\")\n",
    "elif (b < a and b < c) or (b > a and b < c) :\n",
    "    z = (b**2)-(4*a*c)\n",
    "    x1 = (-b+cmath.sqrt(z))/(2*a)\n",
    "    x2 = (-b-cmath.sqrt(z)/2*a)\n",
    "    print(\"x1= \",x1,\"x2= \",x2)\n",
    "else:\n",
    "    y = (b**2)-(4*a*c)\n",
    "    x1 = (-b+sqrt(y))/(2*a)\n",
    "    x2 = (-b-sqrt(y)/2*a)\n",
    "    print(\"x1= \",x1,\"x2= \",x2)"
   ]
  },
  {
   "cell_type": "code",
   "execution_count": 8,
   "metadata": {},
   "outputs": [
    {
     "name": "stdout",
     "output_type": "stream",
     "text": [
      "Enter first term: 3\n",
      "Enter common difference: 6\n",
      "do you want to find nth term yes or no:yes\n",
      "Enter nth term: 35\n",
      "207\n",
      "do you want to find another nth term yes or no:yes\n",
      "Enter nth term: 45\n",
      "267\n",
      "do you want to find another nth term yes or no:yes\n",
      "Enter nth term: 96\n",
      "573\n",
      "do you want to find another nth term yes or no:no\n"
     ]
    },
    {
     "data": {
      "text/plain": [
       "('the answer of last term you asked is ', 573)"
      ]
     },
     "execution_count": 8,
     "metadata": {},
     "output_type": "execute_result"
    }
   ],
   "source": [
    "#program-2\n",
    "def AP(a,d):\n",
    "    x= input(\"do you want to find nth term yes or no:\")\n",
    "    while (x == \"yes\" ):\n",
    "        n=int(input(\"Enter nth term: \"))\n",
    "        Tn =a+((n-1)*d)\n",
    "        print(Tn)\n",
    "        x= input(\"do you want to find another nth term yes or no:\")\n",
    "    return \"the answer of last term you asked is \",Tn\n",
    "a=eval(input(\"Enter first term: \"))\n",
    "d=eval(input(\"Enter common difference: \"))\n",
    "AP(a,d)"
   ]
  },
  {
   "cell_type": "code",
   "execution_count": 12,
   "metadata": {},
   "outputs": [
    {
     "name": "stdout",
     "output_type": "stream",
     "text": [
      "Enter text you want to check:  civic\n",
      "Yes your string is Palindrome \n"
     ]
    }
   ],
   "source": [
    "#program-3\n",
    "t = input(\"Enter text you want to check:  \")\n",
    "x = t.casefold()\n",
    "a = len(t)\n",
    "z = t[a::-1]\n",
    "if x == z:\n",
    "    print(\"Yes your string is Palindrome \")\n",
    "else:\n",
    "    print(\"your text is not a palindrome\")"
   ]
  },
  {
   "cell_type": "code",
   "execution_count": 24,
   "metadata": {},
   "outputs": [
    {
     "name": "stdout",
     "output_type": "stream",
     "text": [
      "Enter Name: Mursaleen\n",
      "Enter Father Name: Saleh Zahoor\n",
      "Enter Roll No: 9\n",
      "Enter marks of English: 77\n",
      "Enter marks of urdu: 88\n",
      "Enter marks of maths: 98\n",
      "Enter marks of Islamiat: 76\n",
      "Enter marks of Pak studies: 67\n",
      "\n",
      "------------------------------------------------------------\n",
      "\t\tBoard of Secondary Education Karachi\n",
      "\t\t\tFSC EXAMINATION\n",
      "------------------------------------------------------------\n",
      "Name Mursaleen \t Father Name:  Saleh Zahoor \t Roll No:  9\n",
      "------------------------------------------------------------\n",
      "\n",
      "\t\tEnglish:   77 | 100\n",
      "\t\tUrdu:      88 | 100\n",
      "\t\tMaths:     98 | 100\n",
      "\t\tIslamiat:  76 | 100\n",
      "\t\tPak study: 67 | 100\n",
      "------------------------------------------------------------\n",
      "\ttotal: 406 | percent  81.2 | grade:  A+\n",
      "------------------------------------------------------------\n"
     ]
    }
   ],
   "source": [
    "###### program-4\n",
    "name = input(\"Enter Name: \")\n",
    "F_name = input(\"Enter Father Name: \")\n",
    "Roll = eval(input(\"Enter Roll No: \"))\n",
    "English= eval(input(\"Enter marks of English: \"))\n",
    "Urdu= eval(input(\"Enter marks of urdu: \"))\n",
    "Maths= eval(input(\"Enter marks of maths: \"))\n",
    "Islamiat= eval(input(\"Enter marks of Islamiat: \"))\n",
    "Pak_studies= eval(input(\"Enter marks of Pak studies: \"))\n",
    "\n",
    "t_marks = 500\n",
    "obtained= English+Urdu+Maths+Islamiat+Pak_studies\n",
    "percent = (obtained/t_marks)*100\n",
    "if percent >=80:\n",
    "    g=\"A+\"\n",
    "elif percent >=70:\n",
    "    g=\"A\"\n",
    "elif percent >=60:\n",
    "    g=\"B\"\n",
    "elif percent >=50:\n",
    "    g=\"C\"\n",
    "elif percent >=40:\n",
    "    g=\"D\"\n",
    "else:\n",
    "    g=\"Fail\"\n",
    "print(\"\")\n",
    "print(\"------------------------------------------------------------\")\n",
    "print(\"\\t\\tBoard of Secondary Education Karachi\\n\\t\\t\\tFSC EXAMINATION\")\n",
    "print(\"------------------------------------------------------------\")\n",
    "print(\"Name\",name,\"\\t Father Name: \",F_name,\"\\t Roll No: \",Roll)\n",
    "print(\"------------------------------------------------------------\")\n",
    "print(\"\")\n",
    "print(\"\\t\\tEnglish:  \",English,\"| 100\\n\\t\\tUrdu:     \",Urdu,\"| 100\\n\\t\\tMaths:    \",Maths,\"| 100\\n\\t\\tIslamiat: \",Islamiat,\"| 100\\n\\t\\tPak study:\",Pak_studies,\"| 100\")\n",
    "print(\"------------------------------------------------------------\")\n",
    "print(\"\\ttotal:\",obtained,\"| percent \",percent,\"| grade: \",g)\n",
    "print(\"------------------------------------------------------------\")"
   ]
  },
  {
   "cell_type": "code",
   "execution_count": 2,
   "metadata": {},
   "outputs": [
    {
     "name": "stdout",
     "output_type": "stream",
     "text": [
      "Enter number of rows5\n",
      "Enter number of columns5\n",
      "row wise entries\n",
      "1\n",
      "2\n",
      "3\n",
      "4\n",
      "5\n",
      "2\n",
      "4\n",
      "6\n",
      "8\n",
      "10\n",
      "3\n",
      "6\n",
      "9\n",
      "12\n",
      "15\n",
      "4\n",
      "8\n",
      "12\n",
      "16\n",
      "20\n",
      "5\n",
      "10\n",
      "15\n",
      "20\n",
      "25\n",
      "1 2 3 4 5 \n",
      "2 4 6 8 10 \n",
      "3 6 9 12 15 \n",
      "4 8 12 16 20 \n",
      "5 10 15 20 25 \n"
     ]
    }
   ],
   "source": [
    "#program-5\n",
    "rowNum = int(input(\"Enter number of rows\"))\n",
    "colNum = int(input(\"Enter number of columns\"))\n",
    "matrix = []\n",
    "print(\"row wise entries\")\n",
    "for row in range(rowNum):\n",
    "    a = []\n",
    "    for col in range(colNum):\n",
    "        a.append(int(input(\"\")))\n",
    "    matrix.append(a)\n",
    "    \n",
    "for row in range(rowNum):\n",
    "    for col in range(colNum):\n",
    "        print(matrix[row][col],end = \" \")\n",
    "    print()"
   ]
  },
  {
   "cell_type": "code",
   "execution_count": 30,
   "metadata": {},
   "outputs": [
    {
     "name": "stdout",
     "output_type": "stream",
     "text": [
      "[5, 7]\n",
      "[13, 15]\n"
     ]
    }
   ],
   "source": [
    "#program-6\n",
    "X = [[1,2],[7,8]]  \n",
    " \n",
    "Y = [[4,5],[6,7]]  \n",
    " \n",
    "result = [[0,0],[0,0]]  \n",
    "   \n",
    "for i in range(len(X)):  \n",
    "    for j in range(len(Y)):  \n",
    "            result[i][j] += X[i][j] + Y[i][j]  \n",
    "for r in result:  \n",
    "    print(r)"
   ]
  },
  {
   "cell_type": "code",
   "execution_count": 6,
   "metadata": {
    "scrolled": true
   },
   "outputs": [
    {
     "name": "stdout",
     "output_type": "stream",
     "text": [
      "[16, 19]\n",
      "[76, 91]\n"
     ]
    }
   ],
   "source": [
    "#program-7\n",
    "X = [[1,2],[7,8]]\n",
    "Y = [[4,5],[6,7]]   \n",
    "result = [[sum(a*b for a,b in zip(X_row,Y_col)) for Y_col in zip(*Y)] for X_row in X]     \n",
    "for r in result:  \n",
    "    print(r)"
   ]
  }
 ],
 "metadata": {
  "kernelspec": {
   "display_name": "Python 3",
   "language": "python",
   "name": "python3"
  },
  "language_info": {
   "codemirror_mode": {
    "name": "ipython",
    "version": 3
   },
   "file_extension": ".py",
   "mimetype": "text/x-python",
   "name": "python",
   "nbconvert_exporter": "python",
   "pygments_lexer": "ipython3",
   "version": "3.7.3"
  }
 },
 "nbformat": 4,
 "nbformat_minor": 2
}
