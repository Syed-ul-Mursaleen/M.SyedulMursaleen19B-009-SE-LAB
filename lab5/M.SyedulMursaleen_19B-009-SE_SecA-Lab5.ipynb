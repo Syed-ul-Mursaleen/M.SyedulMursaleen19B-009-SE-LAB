{
 "cells": [
  {
   "cell_type": "markdown",
   "metadata": {},
   "source": [
    "# M.SyedulMursaleen 19b-009-se Section A Lab 5"
   ]
  },
  {
   "cell_type": "code",
   "execution_count": 1,
   "metadata": {},
   "outputs": [
    {
     "name": "stdout",
     "output_type": "stream",
     "text": [
      "Enter your final condition where you want to break the loop3\n",
      "The value of count:  0\n",
      "I am using while loop  1  time\n",
      "The value of count:  1\n",
      "I am using while loop  2  time\n",
      "The value of count:  2\n",
      "I am using while loop  3  time\n"
     ]
    }
   ],
   "source": [
    "#program-1\n",
    "count = 0\n",
    "f = eval(input(\"Enter your final condition where you want to break the loop\"))\n",
    "while(count < f):\n",
    "    print(\"The value of count: \",count)\n",
    "    count =count + 1\n",
    "    print(\"I am using while loop \", count,\" time\")"
   ]
  },
  {
   "cell_type": "code",
   "execution_count": 1,
   "metadata": {},
   "outputs": [
    {
     "name": "stdout",
     "output_type": "stream",
     "text": [
      "Enter  a number: 3\n",
      "You entered:  3\n",
      "End of Loop!\n"
     ]
    }
   ],
   "source": [
    "#program-2\n",
    "var = 1\n",
    "while var == 1:\n",
    "    num = eval(input(\"Enter  a number: \"))\n",
    "    print(\"You entered: \",num)\n",
    "    break\n",
    "print(\"End of Loop!\")"
   ]
  },
  {
   "cell_type": "code",
   "execution_count": 3,
   "metadata": {},
   "outputs": [
    {
     "name": "stdout",
     "output_type": "stream",
     "text": [
      "Enter the value to execute the while loop: 6\n",
      "The sum is  21\n"
     ]
    }
   ],
   "source": [
    "#program-3\n",
    "n = eval(input(\"Enter the value to execute the while loop: \"))\n",
    "Sum = 0\n",
    "i = 1\n",
    "while i <= n:\n",
    "    Sum = Sum + i\n",
    "    i = i + 1\n",
    "print(\"The sum is \",Sum)"
   ]
  },
  {
   "cell_type": "code",
   "execution_count": 4,
   "metadata": {},
   "outputs": [
    {
     "name": "stdout",
     "output_type": "stream",
     "text": [
      "0 is less than final condition\n",
      "1 is less than final condition\n",
      "2 is less than final condition\n",
      "3 is less than final condition\n",
      "4 is less than final condition\n",
      "5 is less than final condition\n",
      "6 is less than final condition\n",
      "7 is less than final condition\n",
      "8 is less than final condition\n",
      "9 is less than final condition\n",
      "10  is not less than final condition\n"
     ]
    }
   ],
   "source": [
    "#program-4\n",
    "i = 0\n",
    "f = 10\n",
    "while i < f:\n",
    "    print(i,\"is less than final condition\")\n",
    "    i = i + 1\n",
    "else:\n",
    "    print(i,\" is not less than final condition\")"
   ]
  },
  {
   "cell_type": "code",
   "execution_count": 8,
   "metadata": {},
   "outputs": [
    {
     "data": {
      "text/plain": [
       "17"
      ]
     },
     "execution_count": 8,
     "metadata": {},
     "output_type": "execute_result"
    }
   ],
   "source": [
    "#program-5\n",
    "def f(x):\n",
    "    res = x**2+1\n",
    "    return res\n",
    "f(4)"
   ]
  },
  {
   "cell_type": "code",
   "execution_count": 14,
   "metadata": {},
   "outputs": [
    {
     "name": "stdout",
     "output_type": "stream",
     "text": [
      "30\n",
      "[1, 8, 27, 64, 125, 216, 343, 512, 729, 1000, 1331, 1728, 2197, 2744, 3375, 4096, 4913, 5832, 6859, 8000, 9261, 10648, 12167, 13824, 15625, 17576, 19683, 21952, 24389, 27000]\n"
     ]
    }
   ],
   "source": [
    "#program-6\n",
    "def CubeValues():\n",
    "    lst=list()\n",
    "    for i in range(1,31):\n",
    "        lst.append(i**3)\n",
    "    print(i)\n",
    "    print(lst)\n",
    "CubeValues()"
   ]
  },
  {
   "cell_type": "code",
   "execution_count": 18,
   "metadata": {},
   "outputs": [
    {
     "data": {
      "text/plain": [
       "['Q', 'y', 'v', 'w', 'e', 'p', 'i', 'i', 'r']"
      ]
     },
     "execution_count": 18,
     "metadata": {},
     "output_type": "execute_result"
    }
   ],
   "source": [
    "#program-7\n",
    "def caesar_encrypt(realText,step):\n",
    "    outText=[]\n",
    "    cryptText=[]\n",
    "    uppercase=['A','B','C','D','E','F','G','H','I','J','K','L','M','N','O','P','Q','R','S','T','U','V','W','X','Y','Z']\n",
    "    lowercase=['a','b','c','d','e','f','g','h','i','j','k','l','m','n','o','p','q','r','s','t','u','v','w','x','y','z']\n",
    "    \n",
    "    for eachLetter in realText:\n",
    "        if eachLetter in uppercase:\n",
    "            index = uppercase.index(eachLetter)\n",
    "            crypting = (index + step)%26\n",
    "            cryptText.append(crypting)\n",
    "            newLetter = uppercase[crypting]\n",
    "            outText.append(newLetter)\n",
    "        elif eachLetter in lowercase:\n",
    "            index = lowercase.index(eachLetter)\n",
    "            crypting = (index + step) % 26\n",
    "            cryptText.append(crypting)\n",
    "            newLetter = lowercase[crypting]\n",
    "            outText.append(newLetter)\n",
    "    return outText\n",
    "caesar_encrypt(\"Mursaleen\",4)"
   ]
  }
 ],
 "metadata": {
  "kernelspec": {
   "display_name": "Python 3",
   "language": "python",
   "name": "python3"
  },
  "language_info": {
   "codemirror_mode": {
    "name": "ipython",
    "version": 3
   },
   "file_extension": ".py",
   "mimetype": "text/x-python",
   "name": "python",
   "nbconvert_exporter": "python",
   "pygments_lexer": "ipython3",
   "version": "3.6.5"
  }
 },
 "nbformat": 4,
 "nbformat_minor": 2
}
