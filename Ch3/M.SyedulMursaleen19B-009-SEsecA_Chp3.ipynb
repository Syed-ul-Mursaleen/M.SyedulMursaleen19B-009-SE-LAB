{
 "cells": [
  {
   "cell_type": "markdown",
   "metadata": {},
   "source": [
    "M.SYED-UL-MURSALEEN 19B-009-SE SecA CHP-3"
   ]
  },
  {
   "cell_type": "code",
   "execution_count": 3,
   "metadata": {},
   "outputs": [
    {
     "name": "stdout",
     "output_type": "stream",
     "text": [
      "Enter temperature in degree Fahrenheit: 70\n",
      "The temperature in degree celsius is:  21.11111111111111\n"
     ]
    }
   ],
   "source": [
    "#3.1\n",
    "f = eval(input(\"Enter temperature in degree Fahrenheit: \"))\n",
    "celsius = 5/9*(f-32)\n",
    "print(\"The temperature in degree celsius is: \",celsius)"
   ]
  },
  {
   "cell_type": "code",
   "execution_count": 8,
   "metadata": {},
   "outputs": [
    {
     "name": "stdout",
     "output_type": "stream",
     "text": [
      "Enter age: 65\n",
      "You can get your pension benefits\n",
      "Enter name: ruth\n",
      "One of the top 5 baseball player ever!\n",
      "Enter hits: 11\n",
      "Enter shields0\n",
      "You are dead!\n",
      "North is available true or false: True\n",
      "East is available true or false: false\n",
      "West is available true or false: false\n",
      "South is available true or false: false\n",
      "I can escape\n"
     ]
    }
   ],
   "source": [
    "#3.2\n",
    "#a\n",
    "age = int(input(\"Enter age: \"))\n",
    "if age > 62:\n",
    "    print(\"You can get your pension benefits\")\n",
    "#b\n",
    "lst = ['Musial','Aaraon','Williams','Gehrig','Ruth']\n",
    "name = input(\"Enter name: \")\n",
    "x = name.capitalize()\n",
    "if x in lst:\n",
    "    print(\"One of the top 5 baseball player ever!\")\n",
    "#c\n",
    "hits = eval(input(\"Enter hits: \"))\n",
    "shield = eval(input(\"Enter shields\"))\n",
    "\n",
    "if hits > 10 and shield == 0:\n",
    "    print(\"You are dead!\")\n",
    "else:\n",
    "    print(\"You are still alive!\")\n",
    "#d\n",
    "North = bool(input(\"North is available true or false: \"))\n",
    "East = bool(input(\"East is available true or false: \"))\n",
    "West = bool(input(\"West is available true or false: \"))\n",
    "South = bool(input(\"South is available true or false: \"))\n",
    "\n",
    "if North == True or East == True or West ==True or South == True:\n",
    "    print(\"I can escape\")\n",
    "else:\n",
    "    print(\"I cant escape\")"
   ]
  },
  {
   "cell_type": "code",
   "execution_count": 28,
   "metadata": {},
   "outputs": [
    {
     "name": "stdout",
     "output_type": "stream",
     "text": [
      "Enter year to find the its leap year or not: 2019\n",
      "Definitely not a leap year\n",
      "Enter lottery number: 2\n",
      "You won!\n"
     ]
    }
   ],
   "source": [
    "#3.3\n",
    "#a\n",
    "year = int(input(\"Enter year to find the its leap year or not: \"))\n",
    "if year % 4 == 0:\n",
    "    print(\"Could be a leap year\")\n",
    "else:\n",
    "    print(\"Definitely not a leap year\")\n",
    "#b\n",
    "ticket = ['1','2','3','4']\n",
    "lottery = str(input(\"Enter lottery number: \"))\n",
    "if lottery in ticket:\n",
    "    print(\"You won!\")\n",
    "else:\n",
    "    print(\"Better luck next time!\")"
   ]
  },
  {
   "cell_type": "code",
   "execution_count": 27,
   "metadata": {},
   "outputs": [
    {
     "name": "stdout",
     "output_type": "stream",
     "text": [
      "Login: joe\n",
      "Your are in!\n",
      "Done.\n"
     ]
    }
   ],
   "source": [
    "#3.4\n",
    "user = ['joe','sue','hani','sophie']\n",
    "id = str(input(\"Login: \"))\n",
    "if id in user:\n",
    "    print(\"Your are in!\\nDone.\")\n",
    "else:\n",
    "    print(\"User unknown.\\nDone.\")\n",
    "    "
   ]
  },
  {
   "cell_type": "code",
   "execution_count": 7,
   "metadata": {},
   "outputs": [
    {
     "name": "stdout",
     "output_type": "stream",
     "text": [
      "Enter number of string you want to add: 4\n",
      "string: stop\n",
      "string: desktop\n",
      "string: top\n",
      "string: post\n",
      "['stop', 'desktop', 'top', 'post']\n",
      "stop\n",
      "desktop\n",
      "top\n",
      "post\n"
     ]
    }
   ],
   "source": [
    "#3.5\n",
    "lst=[]\n",
    "x = int(input(\"Enter number of string you want to add: \"))\n",
    "for i in range(0,x):\n",
    "    y = input(\"string: \")\n",
    "    lst.append(y)\n",
    "print(lst)\n",
    "print(*lst, sep = \"\\n\")"
   ]
  },
  {
   "cell_type": "code",
   "execution_count": 13,
   "metadata": {},
   "outputs": [
    {
     "name": "stdout",
     "output_type": "stream",
     "text": [
      "0 1 2 3 4 5 6 7 8 9 \n",
      "0 1 "
     ]
    }
   ],
   "source": [
    "#3.6\n",
    "#a\n",
    "for i in range(0,10):\n",
    "    print(i, end=\" \")\n",
    "print(\"\")\n",
    "#b\n",
    "for i in range(0,2):\n",
    "    print(i,end = \" \")"
   ]
  },
  {
   "cell_type": "code",
   "execution_count": 21,
   "metadata": {},
   "outputs": [
    {
     "name": "stdout",
     "output_type": "stream",
     "text": [
      "3\n",
      "4\n",
      "5\n",
      "6\n",
      "7\n",
      "8\n",
      "9\n",
      "10\n",
      "11\n",
      "12\n",
      "0 2 4 6 8  \n",
      "0 3 6 9 12 15 18 21 24  \n",
      "3 8 "
     ]
    }
   ],
   "source": [
    "#3.7\n",
    "#a\n",
    "for i in range(3,13):\n",
    "    print(i)\n",
    "#b\n",
    "for i in range(0,10,2):\n",
    "    print(i, end =\" \")\n",
    "print(\" \")\n",
    "#c\n",
    "for i in range(0,25,3):\n",
    "    print(i, end =\" \")\n",
    "print(\" \")\n",
    "#d\n",
    "for i in range(3,12,5):\n",
    "    print(i, end = \" \")  "
   ]
  },
  {
   "cell_type": "code",
   "execution_count": 23,
   "metadata": {},
   "outputs": [
    {
     "name": "stdout",
     "output_type": "stream",
     "text": [
      "Enter radius in cm: 2\n",
      "Perimeter of circle is:  12.566370614359172 cm\n"
     ]
    }
   ],
   "source": [
    "#3.8\n",
    "#a\n",
    "from math import pi\n",
    "def perimeter(radius):\n",
    "    per = 2 * pi * radius\n",
    "    print(\"Perimeter of circle is: \",per,\"cm\")\n",
    "    return\n",
    "radius = eval(input(\"Enter radius in cm: \"))\n",
    "perimeter(radius)"
   ]
  },
  {
   "cell_type": "code",
   "execution_count": 24,
   "metadata": {},
   "outputs": [
    {
     "name": "stdout",
     "output_type": "stream",
     "text": [
      "Enter number 1: 6\n",
      "Enter number 2: 8\n",
      "Average is:  7.0\n"
     ]
    }
   ],
   "source": [
    "#3.9\n",
    "def average(n1,n2):\n",
    "    avg = (n1 + n2) /2\n",
    "    print(\"Average is: \",avg)\n",
    "    return\n",
    "n1 = eval(input(\"Enter number 1: \"))\n",
    "n2 = eval(input(\"Enter number 2: \"))\n",
    "average(n1,n2)"
   ]
  },
  {
   "cell_type": "code",
   "execution_count": 38,
   "metadata": {},
   "outputs": [
    {
     "name": "stdout",
     "output_type": "stream",
     "text": [
      "Enter string: crypt\n"
     ]
    },
    {
     "data": {
      "text/plain": [
       "True"
      ]
     },
     "execution_count": 38,
     "metadata": {},
     "output_type": "execute_result"
    }
   ],
   "source": [
    "#3.10\n",
    "def noVowel(s):\n",
    "    for i in s:\n",
    "        if i in \"AEIOUaeiou\":\n",
    "            return False\n",
    "    return True\n",
    "s = str(input(\"Enter string: \"))\n",
    "noVowel(s)"
   ]
  },
  {
   "cell_type": "code",
   "execution_count": 7,
   "metadata": {},
   "outputs": [
    {
     "name": "stdout",
     "output_type": "stream",
     "text": [
      "Enter how many number you want to add in list: 6\n",
      "Enter number: 2\n",
      "Enter number: 4\n",
      "Enter number: -8\n",
      "Enter number: -6\n",
      "Enter number: 6\n",
      "Enter number: 8\n",
      "[2, 4, -8, -6, 6, 8]\n"
     ]
    },
    {
     "data": {
      "text/plain": [
       "True"
      ]
     },
     "execution_count": 7,
     "metadata": {},
     "output_type": "execute_result"
    }
   ],
   "source": [
    "## 3.11\n",
    "def allEven(n):\n",
    "    lst=[]\n",
    "    for i in range(0,n):\n",
    "        x = int(input(\"Enter number: \"))\n",
    "        lst.append(x)\n",
    "    print(lst)\n",
    "    for i in lst:\n",
    "        if (i % 2 == 0):\n",
    "            return True\n",
    "    return False\n",
    "n = int(input(\"Enter how many number you want to add in list: \"))\n",
    "allEven(n)"
   ]
  },
  {
   "cell_type": "code",
   "execution_count": 8,
   "metadata": {},
   "outputs": [
    {
     "name": "stdout",
     "output_type": "stream",
     "text": [
      "Enter how many number you want to add in list: 6\n",
      "Enter number: 1\n",
      "Enter number: 2\n",
      "Enter number: 4\n",
      "Enter number: 6\n",
      "Enter number: 8\n",
      "Enter number: 10\n",
      "[1, 2, 4, 6, 8, 10]\n"
     ]
    },
    {
     "data": {
      "text/plain": [
       "False"
      ]
     },
     "execution_count": 8,
     "metadata": {},
     "output_type": "execute_result"
    }
   ],
   "source": [
    "#b\n",
    "def allEven(n):\n",
    "    lst=[]\n",
    "    for i in range(0,n):\n",
    "        x = int(input(\"Enter number: \"))\n",
    "        lst.append(x)\n",
    "    print(lst)\n",
    "    for i in lst:\n",
    "        if (i % 2 == 0):\n",
    "            return False\n",
    "    return True\n",
    "n = int(input(\"Enter how many number you want to add in list: \"))\n",
    "allEven(n)"
   ]
  },
  {
   "cell_type": "code",
   "execution_count": 15,
   "metadata": {},
   "outputs": [
    {
     "name": "stdout",
     "output_type": "stream",
     "text": [
      "Enter how many number you want to add in list: 4\n",
      "Enter number: -2\n",
      "Enter number: 3\n",
      "Enter number: -6\n",
      "Enter number: -7\n",
      "[-2, 3, -6, -7]\n",
      "-2\n",
      "-6\n",
      "-7\n"
     ]
    }
   ],
   "source": [
    "#3.12\n",
    "def negatives(n):\n",
    "    lst=[]\n",
    "    for i in range(0,n):\n",
    "        x = int(input(\"Enter number: \"))\n",
    "        lst.append(x)\n",
    "    print(lst)\n",
    "    for i in lst:\n",
    "        if i < 0:\n",
    "            print(i)\n",
    "    return\n",
    "n = int(input(\"Enter how many number you want to add in list: \"))\n",
    "negatives(n)"
   ]
  },
  {
   "cell_type": "code",
   "execution_count": 16,
   "metadata": {},
   "outputs": [
    {
     "name": "stdout",
     "output_type": "stream",
     "text": [
      "Help on function average in module __main__:\n",
      "\n",
      "average(n1, n2)\n",
      "    #3.13\n",
      "    #a\n",
      "\n"
     ]
    },
    {
     "data": {
      "text/plain": [
       "6.0"
      ]
     },
     "execution_count": 16,
     "metadata": {},
     "output_type": "execute_result"
    }
   ],
   "source": [
    "#3.13\n",
    "#a\n",
    "def average(n1,n2):\n",
    "    x = (n1+n2)/2\n",
    "    return x\n",
    "help(average)\n",
    "average(3,9)"
   ]
  },
  {
   "cell_type": "code",
   "execution_count": 19,
   "metadata": {},
   "outputs": [
    {
     "name": "stdout",
     "output_type": "stream",
     "text": [
      "Help on function negatives in module __main__:\n",
      "\n",
      "negatives(n)\n",
      "    #b\n",
      "\n",
      "Enter how many number you want to add in list: 3\n",
      "Enter number: -3\n",
      "Enter number: -4\n",
      "Enter number: 3\n",
      "[-3, -4, 3]\n",
      "-3\n",
      "-4\n"
     ]
    }
   ],
   "source": [
    "#b\n",
    "def negatives(n):\n",
    "    lst=[]\n",
    "    for i in range(0,n):\n",
    "        x = int(input(\"Enter number: \"))\n",
    "        lst.append(x)\n",
    "    print(lst)\n",
    "    for i in lst:\n",
    "        if i < 0:\n",
    "            print(i)\n",
    "    return\n",
    "help(negatives)\n",
    "n = int(input(\"Enter how many number you want to add in list: \"))\n",
    "negatives(n)"
   ]
  },
  {
   "cell_type": "code",
   "execution_count": 20,
   "metadata": {},
   "outputs": [
    {
     "name": "stdout",
     "output_type": "stream",
     "text": [
      "[5, 6, 7]\n",
      "[5, 6, 7]\n",
      "3\n"
     ]
    }
   ],
   "source": [
    "#3.14\n",
    "a = [5,6,7]\n",
    "print(a)\n",
    "b = a\n",
    "print(b)\n",
    "a = 3\n",
    "print(a)"
   ]
  },
  {
   "cell_type": "code",
   "execution_count": 6,
   "metadata": {},
   "outputs": [
    {
     "name": "stdout",
     "output_type": "stream",
     "text": [
      "['Ava', 'Eleanor', 'Clare', 'Sarah']\n",
      "['Sarah', 'Eleanor', 'Clare', 'Ava']\n"
     ]
    }
   ],
   "source": [
    "#3.15\n",
    "team=['Ava','Eleanor','Clare','Sarah']\n",
    "print(team)\n",
    "temp= team[0]\n",
    "team[0]=team[-1]\n",
    "team[-1]= temp\n",
    "print(lst)"
   ]
  },
  {
   "cell_type": "code",
   "execution_count": 4,
   "metadata": {},
   "outputs": [
    {
     "name": "stdout",
     "output_type": "stream",
     "text": [
      "['flour', 'sugar', 'butter', 'apples']\n",
      "['apples', 'sugar', 'butter', 'flour']\n"
     ]
    }
   ],
   "source": [
    "#3.16\n",
    "list=['flour','sugar','butter','apples']\n",
    "def swapFL():\n",
    "    print(list)\n",
    "    temp = list[0]\n",
    "    list[0] = list[-1]\n",
    "    list[-1] = temp\n",
    "    print(list)\n",
    "    return\n",
    "swapFL()"
   ]
  },
  {
   "cell_type": "code",
   "execution_count": 24,
   "metadata": {},
   "outputs": [
    {
     "name": "stdout",
     "output_type": "stream",
     "text": [
      "7\n"
     ]
    },
    {
     "ename": "NameError",
     "evalue": "name 'hello' is not defined",
     "output_type": "error",
     "traceback": [
      "\u001b[1;31m---------------------------------------------------------------------------\u001b[0m",
      "\u001b[1;31mNameError\u001b[0m                                 Traceback (most recent call last)",
      "\u001b[1;32m<ipython-input-24-156324d216b4>\u001b[0m in \u001b[0;36m<module>\u001b[1;34m\u001b[0m\n\u001b[0;32m      4\u001b[0m \u001b[0mprint\u001b[0m\u001b[1;33m(\u001b[0m\u001b[0mx\u001b[0m\u001b[1;33m)\u001b[0m\u001b[1;33m\u001b[0m\u001b[1;33m\u001b[0m\u001b[0m\n\u001b[0;32m      5\u001b[0m \u001b[1;31m#b\u001b[0m\u001b[1;33m\u001b[0m\u001b[1;33m\u001b[0m\u001b[1;33m\u001b[0m\u001b[0m\n\u001b[1;32m----> 6\u001b[1;33m \u001b[0my\u001b[0m \u001b[1;33m=\u001b[0m \u001b[0meval\u001b[0m\u001b[1;33m(\u001b[0m\u001b[1;34m\"hello\"\u001b[0m\u001b[1;33m)\u001b[0m\u001b[1;33m\u001b[0m\u001b[1;33m\u001b[0m\u001b[0m\n\u001b[0m\u001b[0;32m      7\u001b[0m \u001b[1;31m#function only work with mathematical operations,integers and float\u001b[0m\u001b[1;33m\u001b[0m\u001b[1;33m\u001b[0m\u001b[1;33m\u001b[0m\u001b[0m\n\u001b[0;32m      8\u001b[0m \u001b[0mprint\u001b[0m\u001b[1;33m(\u001b[0m\u001b[0my\u001b[0m\u001b[1;33m)\u001b[0m\u001b[1;33m\u001b[0m\u001b[1;33m\u001b[0m\u001b[0m\n",
      "\u001b[1;32m<string>\u001b[0m in \u001b[0;36m<module>\u001b[1;34m\u001b[0m\n",
      "\u001b[1;31mNameError\u001b[0m: name 'hello' is not defined"
     ]
    }
   ],
   "source": [
    "#3.17\n",
    "#a\n",
    "x = eval('2*3+1')\n",
    "print(x)\n",
    "#b\n",
    "y = eval(\"hello\")\n",
    "#function only work with mathematical operations,integers and float\n",
    "print(y)\n",
    "#c\n",
    "z = eval(\"'hello'+' '+'world'\")\n",
    "print(z)\n",
    "#d\n",
    "a = eval(\"'ASCII'.count('I')\")\n",
    "print(a)\n",
    "#e\n",
    "b = eval(\"x = 5\")\n",
    "#comarison operator is == not =\n",
    "print(b)"
   ]
  },
  {
   "cell_type": "code",
   "execution_count": 1,
   "metadata": {},
   "outputs": [
    {
     "name": "stdout",
     "output_type": "stream",
     "text": [
      "OK\n",
      "OK\n"
     ]
    }
   ],
   "source": [
    "#3.18\n",
    "a = 3\n",
    "b = 4\n",
    "c = 5\n",
    "#a\n",
    "if a < b:\n",
    "    print(\"OK\")\n",
    "#b\n",
    "if c < b:\n",
    "    print(\"OK\")\n",
    "#c\n",
    "if (a+b) == c:\n",
    "    print(\"OK\")\n",
    "#d\n",
    "if ((a**2)+(b**2)) == (c**2):\n",
    "    print(\"OK\")"
   ]
  },
  {
   "cell_type": "code",
   "execution_count": 2,
   "metadata": {},
   "outputs": [
    {
     "name": "stdout",
     "output_type": "stream",
     "text": [
      "Not OK\n",
      "Not OK\n"
     ]
    }
   ],
   "source": [
    "#3.19\n",
    "a = 3\n",
    "b = 4\n",
    "c = 5\n",
    "#a\n",
    "if a < b:\n",
    "    print(\"Not OK\")\n",
    "#b\n",
    "if c < b:\n",
    "    print(\"Not OK\")\n",
    "#c\n",
    "if (a+b) == c:\n",
    "    print(\"Not OK\")\n",
    "#d\n",
    "if ((a**2)+(b**2)) == (c**2):\n",
    "    print(\"Not OK\")"
   ]
  },
  {
   "cell_type": "code",
   "execution_count": 5,
   "metadata": {},
   "outputs": [
    {
     "name": "stdout",
     "output_type": "stream",
     "text": [
      "Jan\n",
      "Feb\n",
      "Mar\n"
     ]
    }
   ],
   "source": [
    "#3.20\n",
    "lst = ['January','February','March']\n",
    "for i in lst:\n",
    "    print(i[:3])"
   ]
  },
  {
   "cell_type": "code",
   "execution_count": 7,
   "metadata": {},
   "outputs": [
    {
     "name": "stdout",
     "output_type": "stream",
     "text": [
      "2\n",
      "4\n",
      "6\n",
      "8\n"
     ]
    }
   ],
   "source": [
    "#3.21\n",
    "lst = [2,3,4,5,6,7,8,9]\n",
    "for i in lst:\n",
    "    if (i%2 == 0):\n",
    "        print(i)"
   ]
  },
  {
   "cell_type": "code",
   "execution_count": 8,
   "metadata": {},
   "outputs": [
    {
     "name": "stdout",
     "output_type": "stream",
     "text": [
      "4\n",
      "8\n"
     ]
    }
   ],
   "source": [
    "#3.22\n",
    "lst = [2,3,4,5,6,7,8,9]\n",
    "for i in lst:\n",
    "    if ((i**2)% 8 == 0):\n",
    "        print(i)"
   ]
  },
  {
   "cell_type": "code",
   "execution_count": 9,
   "metadata": {},
   "outputs": [
    {
     "name": "stdout",
     "output_type": "stream",
     "text": [
      "0 1  \n",
      "0  \n",
      "3 4 5 6  \n",
      "1  \n",
      "0 3  \n",
      "5 9 13 17 21  \n"
     ]
    }
   ],
   "source": [
    "#3.23\n",
    "#a\n",
    "for i in range(0,2):\n",
    "    print(i,end= \" \")\n",
    "print(\" \")\n",
    "#b\n",
    "for i in range(0,1):\n",
    "    print(i,end= \" \")\n",
    "print(\" \")\n",
    "#c\n",
    "for i in range(3,7):\n",
    "    print(i,end= \" \")\n",
    "print(\" \")\n",
    "#d\n",
    "for i in range(1,2):\n",
    "    print(i,end= \" \")\n",
    "print(\" \")\n",
    "#e\n",
    "for i in range(0,4,3):\n",
    "    print(i,end= \" \")\n",
    "print(\" \")\n",
    "#f\n",
    "for i in range(5,22,4):\n",
    "    print(i,end= \" \")\n",
    "print(\" \")"
   ]
  },
  {
   "cell_type": "code",
   "execution_count": 56,
   "metadata": {},
   "outputs": [
    {
     "name": "stdout",
     "output_type": "stream",
     "text": [
      "Enter number of words you want to add in list:  6\n",
      "Enter Word: cia\n",
      "Enter Word: secret\n",
      "Enter Word: isi\n",
      "Enter Word: mi6\n",
      "Enter Word: secret\n",
      "Enter Word: mik\n",
      "['cia', 'secret', 'isi', 'mi6', 'secret', 'mik']\n",
      "['cia', 'isi', 'mi6', 'mik']\n"
     ]
    }
   ],
   "source": [
    "#3.24\n",
    "n = int(input(\"Enter number of words you want to add in list:  \"))\n",
    "lst=[]\n",
    "for i in range(0,n):\n",
    "    x = str(input(\"Enter Word: \"))\n",
    "    lst.append(x)\n",
    "print(lst)\n",
    "for j in lst:\n",
    "    if j == \"secret\":\n",
    "        lst.remove(\"secret\")\n",
    "print(lst)"
   ]
  },
  {
   "cell_type": "code",
   "execution_count": 38,
   "metadata": {},
   "outputs": [
    {
     "name": "stdout",
     "output_type": "stream",
     "text": [
      "Ellie\n",
      "Gavin\n"
     ]
    }
   ],
   "source": [
    "#3.25\n",
    "lst=['Ellie','Steve','Sam','Owen','Gavin']\n",
    "for i in lst:\n",
    "    if i[0] in \"ABCDEFGHIJKLM\":\n",
    "        print(i)"
   ]
  },
  {
   "cell_type": "code",
   "execution_count": 42,
   "metadata": {},
   "outputs": [
    {
     "name": "stdout",
     "output_type": "stream",
     "text": [
      "Enter number of words you want to add in list:  4\n",
      "Enter number: 3\n",
      "Enter number: 5\n",
      "Enter number: 7\n",
      "Enter number: 9\n",
      "[3, 5, 7, 9]\n",
      "the first list element is:  3 \n",
      "The last list element is:  9\n"
     ]
    }
   ],
   "source": [
    "#3.26\n",
    "n = int(input(\"Enter number of words you want to add in list:  \"))\n",
    "lst=[]\n",
    "for i in range(0,n):\n",
    "    x = int(input(\"Enter number: \"))\n",
    "    lst.append(x)\n",
    "print(lst)\n",
    "list = [lst[0],lst[-1]]\n",
    "print(\"the first list element is: \",list[0],\"\\nThe last list element is: \",list[1])"
   ]
  },
  {
   "cell_type": "code",
   "execution_count": 44,
   "metadata": {},
   "outputs": [
    {
     "name": "stdout",
     "output_type": "stream",
     "text": [
      "Enter number: 5\n",
      "0\n",
      "5\n",
      "10\n",
      "15\n"
     ]
    }
   ],
   "source": [
    "#3.27\n",
    "n = int(input(\"Enter number: \"))\n",
    "for i in range(0,4):\n",
    "    res = n*i\n",
    "    print(res)"
   ]
  },
  {
   "cell_type": "code",
   "execution_count": 48,
   "metadata": {},
   "outputs": [
    {
     "name": "stdout",
     "output_type": "stream",
     "text": [
      "Enter number: 3\n",
      "0\n",
      "1\n",
      "4\n"
     ]
    }
   ],
   "source": [
    "#3.28\n",
    "n = int(input(\"Enter number: \"))\n",
    "for i in range(0,4):\n",
    "    if i != n:\n",
    "        res = i**2\n",
    "        print(res)"
   ]
  },
  {
   "cell_type": "code",
   "execution_count": 52,
   "metadata": {},
   "outputs": [
    {
     "name": "stdout",
     "output_type": "stream",
     "text": [
      "Enter number: 49\n",
      "1\n",
      "7\n",
      "49\n"
     ]
    }
   ],
   "source": [
    "#3.29\n",
    "n = int(input(\"Enter number: \"))\n",
    "for i in range(1,n+1):\n",
    "    if ( n % i == 0):\n",
    "        print(i)"
   ]
  },
  {
   "cell_type": "code",
   "execution_count": 53,
   "metadata": {},
   "outputs": [
    {
     "name": "stdout",
     "output_type": "stream",
     "text": [
      "Enter number: 4.5\n",
      "Enter number: 3\n",
      "Enter number: 3\n",
      "Enter number: 3.5\n",
      "Equal\n"
     ]
    }
   ],
   "source": [
    "#3.30\n",
    "n1 = eval(input(\"Enter number: \"))\n",
    "n2 = eval(input(\"Enter number: \"))\n",
    "n3 = eval(input(\"Enter number: \"))\n",
    "n4 = eval(input(\"Enter number: \"))\n",
    "avg = (n1+n2+n3)/3\n",
    "if avg == n4:\n",
    "    print(\"Equal\")"
   ]
  },
  {
   "cell_type": "code",
   "execution_count": 54,
   "metadata": {},
   "outputs": [
    {
     "name": "stdout",
     "output_type": "stream",
     "text": [
      "Enter x coordinate: 2.5\n",
      "Enter y coordinate: 4\n",
      "It is in!\n"
     ]
    }
   ],
   "source": [
    "#3.31\n",
    "x = eval(input(\"Enter x coordinate: \"))\n",
    "y = eval(input(\"Enter y coordinate: \"))\n",
    "if (x and y) <= 10 and (x and y) >= -10:\n",
    "    print(\"It is in!\")"
   ]
  },
  {
   "cell_type": "code",
   "execution_count": 128,
   "metadata": {},
   "outputs": [
    {
     "name": "stdout",
     "output_type": "stream",
     "text": [
      "Enter number: 1234\n",
      "1\n",
      "2\n",
      "3\n",
      "4\n"
     ]
    }
   ],
   "source": [
    "#3.32\n",
    "n = int(input(\"Enter number: \"))\n",
    "for i in repr(n):\n",
    "    if i.isdigit():\n",
    "        print(i)"
   ]
  },
  {
   "cell_type": "code",
   "execution_count": 127,
   "metadata": {},
   "outputs": [
    {
     "name": "stdout",
     "output_type": "stream",
     "text": [
      "Enter string: abc\n",
      "cba\n",
      "Enter string: dna\n",
      "and\n"
     ]
    }
   ],
   "source": [
    "#3.33\n",
    "#a\n",
    "def reverse_string(s):\n",
    "    print(s[::-1])\n",
    "    return\n",
    "s = str(input(\"Enter string: \"))\n",
    "reverse_string(s)\n",
    "#b\n",
    "s = str(input(\"Enter string: \"))\n",
    "reverse_string(s)"
   ]
  },
  {
   "cell_type": "code",
   "execution_count": 28,
   "metadata": {},
   "outputs": [
    {
     "name": "stdout",
     "output_type": "stream",
     "text": [
      "Enter hours employee worked: 35\n",
      "Enter hourly wages of employee: 10\n",
      "Employee payment is:  350\n",
      "Enter hours employee worked: 45\n",
      "Enter hourly wages of employee: 10\n",
      "Employee payment is:  475.0\n"
     ]
    }
   ],
   "source": [
    "#3.34\n",
    "def pay(h,w):\n",
    "    if h > 40:\n",
    "        payment = (40*w)+((w*1.5)*(h-40))\n",
    "        print(\"Employee payment is: \",payment)\n",
    "    else:\n",
    "        payment = h*w\n",
    "        print(\"Employee payment is: \",payment)\n",
    "        return\n",
    "h=eval(input(\"Enter hours employee worked: \"))\n",
    "w = eval(input(\"Enter hourly wages of employee: \"))\n",
    "pay(h,w)\n",
    "#b\n",
    "h=eval(input(\"Enter hours employee worked: \"))\n",
    "w = eval(input(\"Enter hourly wages of employee: \"))\n",
    "pay(h,w)"
   ]
  },
  {
   "cell_type": "code",
   "execution_count": 15,
   "metadata": {},
   "outputs": [
    {
     "name": "stdout",
     "output_type": "stream",
     "text": [
      "Enter number: 1\n",
      "0.5\n",
      "Enter number: 2\n",
      "0.25\n"
     ]
    }
   ],
   "source": [
    "#3.35\n",
    "#a\n",
    "def prob(n):\n",
    "    p = 2**(-n)\n",
    "    print(p)\n",
    "    return\n",
    "n = int(input(\"Enter number: \"))\n",
    "prob(n)\n",
    "#b\n",
    "n = int(input(\"Enter number: \"))\n",
    "prob(n)"
   ]
  },
  {
   "cell_type": "code",
   "execution_count": 23,
   "metadata": {},
   "outputs": [
    {
     "name": "stdout",
     "output_type": "stream",
     "text": [
      "Enter number: 123\n",
      "321\n",
      "Enter number: 908\n",
      "809\n"
     ]
    }
   ],
   "source": [
    "#3.36\n",
    "def reverse_int(n):\n",
    "    Reverse = 0\n",
    "    while(n > 0):\n",
    "        Reminder = n %10\n",
    "        Reverse = (Reverse *10) + Reminder\n",
    "        n = n //10\n",
    "    print(Reverse)\n",
    "    return\n",
    "n = int(input(\"Enter number: \"))\n",
    "reverse_int(n)\n",
    "#b\n",
    "n = int(input(\"Enter number: \"))\n",
    "reverse_int(n)"
   ]
  },
  {
   "cell_type": "code",
   "execution_count": 35,
   "metadata": {},
   "outputs": [
    {
     "name": "stdout",
     "output_type": "stream",
     "text": [
      "Enter x coordinate of first point: 0\n",
      "Enter x coordinate of first point: 0\n",
      "Enter x coordinate of second point: 1\n",
      "Enter x coordinate of second point: 1\n",
      "slope is:  1.0 \n",
      "Distance between two points is:  1.4142135623730951 cm\n",
      "Enter x coordinate of first point: 0\n",
      "Enter x coordinate of first point: 0\n",
      "Enter x coordinate of second point: 0\n",
      "Enter x coordinate of second point: 1\n",
      "slope is infinty and Distance between two points is:  1.0 cm\n"
     ]
    }
   ],
   "source": [
    "#3.37\n",
    "from math import sqrt\n",
    "def point(x1,y1,x2,y2):\n",
    "    if (x1-x2) == 0:\n",
    "        dist = sqrt((x2-x1)**2+(y2-y1)**2)\n",
    "        print(\"slope is infinty and Distance between two points is: \",dist,\"cm\")\n",
    "    else:\n",
    "        slope = (y2-y1)/(x2-x1)\n",
    "        dist = sqrt((x2-x1)**2+(y2-y1)**2)\n",
    "        print(\"slope is: \",slope,\"\\nDistance between two points is: \",dist,\"cm\")\n",
    "    return\n",
    "x1 = eval(input(\"Enter x coordinate of first point: \"))\n",
    "y1 = eval(input(\"Enter x coordinate of first point: \"))\n",
    "x2 = eval(input(\"Enter x coordinate of second point: \"))\n",
    "y2 = eval(input(\"Enter x coordinate of second point: \"))\n",
    "point(x1,y1,x2,y2)\n",
    "#b\n",
    "x1 = eval(input(\"Enter x coordinate of first point: \"))\n",
    "y1 = eval(input(\"Enter x coordinate of first point: \"))\n",
    "x2 = eval(input(\"Enter x coordinate of second point: \"))\n",
    "y2 = eval(input(\"Enter x coordinate of second point: \"))\n",
    "point(x1,y1,x2,y2)"
   ]
  },
  {
   "cell_type": "code",
   "execution_count": 49,
   "metadata": {},
   "outputs": [
    {
     "name": "stdout",
     "output_type": "stream",
     "text": [
      "Enter day of a week: Tuesday\n",
      "Tu\n"
     ]
    }
   ],
   "source": [
    "#3.38\n",
    "def abbreviation(day):\n",
    "    print(day[:2])\n",
    "    return\n",
    "day = str(input(\"Enter day of a week: \"))\n",
    "abbreviation(day)"
   ]
  },
  {
   "cell_type": "code",
   "execution_count": 51,
   "metadata": {},
   "outputs": [
    {
     "name": "stdout",
     "output_type": "stream",
     "text": [
      "Enter x coordinate of first circle: 0\n",
      "Enter y coordinate of first circle: 0\n",
      "Enter radius of first circle: 3\n",
      "Enter x coordinate of second circle: 0\n",
      "Enter y coordinate of second circle: 5\n",
      "Enter radius of second circle: 3\n",
      "True\n",
      "Enter x coordinate of first circle: 0\n",
      "Enter y coordinate of first circle: 0\n",
      "Enter radius of first circle: 1.4\n",
      "Enter x coordinate of second circle: 2\n",
      "Enter y coordinate of second circle: 2\n",
      "Enter radius of second circle: 1.4\n",
      "False\n"
     ]
    }
   ],
   "source": [
    "#3.39\n",
    "def collision(x1,y1,r1,x2,y2,r2):\n",
    "    if x1 == x2 or r1 == r2:\n",
    "        print(True)\n",
    "    else:\n",
    "        print(False)\n",
    "    return\n",
    "x1 = eval(input(\"Enter x coordinate of first circle: \"))\n",
    "y1 = eval(input(\"Enter y coordinate of first circle: \"))\n",
    "r1 = eval(input(\"Enter radius of first circle: \"))\n",
    "x2 = eval(input(\"Enter x coordinate of second circle: \"))\n",
    "y2 = eval(input(\"Enter y coordinate of second circle: \"))\n",
    "r2 = eval(input(\"Enter radius of second circle: \"))\n",
    "collision(x1,y1,r1,x2,y2,r2)\n",
    "#b\n",
    "x1 = eval(input(\"Enter x coordinate of first circle: \"))\n",
    "y1 = eval(input(\"Enter y coordinate of first circle: \"))\n",
    "r1 = eval(input(\"Enter radius of first circle: \"))\n",
    "x2 = eval(input(\"Enter x coordinate of second circle: \"))\n",
    "y2 = eval(input(\"Enter y coordinate of second circle: \"))\n",
    "r2 = eval(input(\"Enter radius of second circle: \"))\n",
    "collision(x1,y1,r1,x2,y2,r2)"
   ]
  },
  {
   "cell_type": "code",
   "execution_count": 53,
   "metadata": {},
   "outputs": [
    {
     "name": "stdout",
     "output_type": "stream",
     "text": [
      "Eleanor\n",
      "Evelyn\n",
      "Gavin\n"
     ]
    }
   ],
   "source": [
    "#3.40\n",
    "def partition( lst):\n",
    "    for i in lst:\n",
    "        if i[0] in \"ABCDEFGHIJKLM\":\n",
    "            print(i)\n",
    "partition(['Eleanor','Evelyn','Sammy','Owen','Gavin'])"
   ]
  },
  {
   "cell_type": "code",
   "execution_count": 62,
   "metadata": {},
   "outputs": [
    {
     "name": "stdout",
     "output_type": "stream",
     "text": [
      "Enter First Name: Albert\n",
      "Enter Last Name: Casus\n",
      "Casus,A\n"
     ]
    }
   ],
   "source": [
    "#3.41\n",
    "def lastF(FirstName,LastName):\n",
    "    x = len(FirstName)\n",
    "    print(LastName+\",\"+FirstName[:1-x])\n",
    "    return\n",
    "FirstName= str(input(\"Enter First Name: \"))\n",
    "LastName= str(input(\"Enter Last Name: \"))\n",
    "lastF(FirstName,LastName)"
   ]
  },
  {
   "cell_type": "code",
   "execution_count": 75,
   "metadata": {},
   "outputs": [
    {
     "name": "stdout",
     "output_type": "stream",
     "text": [
      " 90.0 \n",
      " 60.0 \n",
      " 87.0 \n",
      " 11.0\n"
     ]
    }
   ],
   "source": [
    "#3.42\n",
    "def avg(l1,l2,l3,l4):\n",
    "    a1 = sum(l1)/len(l1)\n",
    "    a2 = sum(l2)/len(l2)\n",
    "    a3 = sum(l3)/len(l3)\n",
    "    a4 = sum(l4)/len(l4)\n",
    "    print(\"\",a1,\"\\n\",a2,\"\\n\",a3,\"\\n\",a4)\n",
    "    return\n",
    "avg([95,92,86,87],[66,54],[89,72,100],[33,0,0])"
   ]
  },
  {
   "cell_type": "code",
   "execution_count": 101,
   "metadata": {},
   "outputs": [
    {
     "name": "stdout",
     "output_type": "stream",
     "text": [
      "True\n",
      "False\n"
     ]
    }
   ],
   "source": [
    "#3.43\n",
    "def hit(x1,y1,r1,x2,y2):\n",
    "    if (x2 <= r1) and (y2 <= r1):\n",
    "        print(True)\n",
    "    else:\n",
    "        print(False)\n",
    "    return\n",
    "hit(0,0,3,3,0)\n",
    "hit(0,0,3,4,0)"
   ]
  },
  {
   "cell_type": "code",
   "execution_count": 92,
   "metadata": {},
   "outputs": [
    {
     "name": "stdout",
     "output_type": "stream",
     "text": [
      "Distance of thunder is: 1.0208700000000002 km\n"
     ]
    }
   ],
   "source": [
    "#3.44\n",
    "def distance(time):\n",
    "    s=340.29\n",
    "    d = s * time\n",
    "    print(\"Distance of thunder is:\",d/1000,\"km\")\n",
    "    return\n",
    "distance(3)"
   ]
  },
  {
   "cell_type": "code",
   "execution_count": null,
   "metadata": {},
   "outputs": [],
   "source": []
  }
 ],
 "metadata": {
  "kernelspec": {
   "display_name": "Python 3",
   "language": "python",
   "name": "python3"
  },
  "language_info": {
   "codemirror_mode": {
    "name": "ipython",
    "version": 3
   },
   "file_extension": ".py",
   "mimetype": "text/x-python",
   "name": "python",
   "nbconvert_exporter": "python",
   "pygments_lexer": "ipython3",
   "version": "3.7.3"
  }
 },
 "nbformat": 4,
 "nbformat_minor": 2
}
