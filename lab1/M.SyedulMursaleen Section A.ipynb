{
 "cells": [
  {
   "cell_type": "code",
   "execution_count": 1,
   "metadata": {},
   "outputs": [
    {
     "name": "stdout",
     "output_type": "stream",
     "text": [
      "What is your nameMursaleen\n",
      "What is your age20\n",
      "Mursaleen will be 100 years old in the year 2099\n"
     ]
    }
   ],
   "source": [
    "name = input(\"What is your name\")\n",
    "age= int(input(\"What is your age\"))\n",
    "year=str((2019 - age)+100)\n",
    "print(name + \" will be 100 years old in the year \" + year)"
   ]
  },
  {
   "cell_type": "code",
   "execution_count": 38,
   "metadata": {},
   "outputs": [
    {
     "name": "stdout",
     "output_type": "stream",
     "text": [
      "Twinkle, twinkle, little star, \n",
      "\tHow I wonder what you are!\n",
      "\t\tUp above the world so high, \n",
      "\t\tLike a diamond in the sky,\n",
      "Twinkle, twinkle, little star, \n",
      "\tHow I wonder what you are!\n"
     ]
    }
   ],
   "source": [
    "print(\"Twinkle, twinkle, little star, \\n\\tHow I wonder what you are!\\n\\t\\tUp above the world so high, \\n\\t\\tLike a diamond in the sky,\\nTwinkle, twinkle, little star, \\n\\tHow I wonder what you are!\")"
   ]
  },
  {
   "cell_type": "code",
   "execution_count": 39,
   "metadata": {},
   "outputs": [
    {
     "name": "stdout",
     "output_type": "stream",
     "text": [
      "Current Date And Time\n",
      "2019-10-22 14-01-43\n"
     ]
    }
   ],
   "source": [
    "import datetime\n",
    "now= datetime.datetime.now()\n",
    "print(\"Current Date And Time\")\n",
    "print(now.strftime(\"%Y-%m-%d %H-%M-%S\"))"
   ]
  },
  {
   "cell_type": "code",
   "execution_count": 41,
   "metadata": {},
   "outputs": [
    {
     "name": "stdout",
     "output_type": "stream",
     "text": [
      "Enter the Radius of the circle3\n",
      "the area of circle of radius 3.0 is: 28.274333882308138\n"
     ]
    }
   ],
   "source": [
    "from math import pi\n",
    "r = float(input(\"Enter the Radius of the circle\"))\n",
    "\n",
    "print(\"the area of circle of radius \"+ str(r) + \" is: \" + str(pi * r**2))\n"
   ]
  },
  {
   "cell_type": "code",
   "execution_count": 43,
   "metadata": {},
   "outputs": [
    {
     "name": "stdout",
     "output_type": "stream",
     "text": [
      "Enter first Nameasdf\n",
      "Enter Last Namesdf\n",
      "Hello asdf sdf\n"
     ]
    }
   ],
   "source": [
    "fname=input(\"Enter first Name\")\n",
    "lname=input(\"Enter Last Name\")\n",
    "print(\"Hello \"+ fname + \" \" + lname)"
   ]
  },
  {
   "cell_type": "code",
   "execution_count": 46,
   "metadata": {},
   "outputs": [
    {
     "name": "stdout",
     "output_type": "stream",
     "text": [
      "Enter Year1999\n",
      "Enter Month12\n",
      "   December 1999\n",
      "Mo Tu We Th Fr Sa Su\n",
      "       1  2  3  4  5\n",
      " 6  7  8  9 10 11 12\n",
      "13 14 15 16 17 18 19\n",
      "20 21 22 23 24 25 26\n",
      "27 28 29 30 31\n",
      "\n"
     ]
    }
   ],
   "source": [
    "import calendar\n",
    "y= int(input(\"Enter Year\"))\n",
    "m=int(input(\"Enter Month\"))\n",
    "print(calendar.month(y, m))"
   ]
  },
  {
   "cell_type": "code",
   "execution_count": 16,
   "metadata": {},
   "outputs": [
    {
     "name": "stdout",
     "output_type": "stream",
     "text": [
      "Enter centigrade to convert: 45\n",
      "113\n"
     ]
    }
   ],
   "source": [
    "#ex-1\n",
    "c = int(input(\"Enter centigrade to convert: \"))\n",
    "f= int((c * 9/5)+32)\n",
    "print(f)\n"
   ]
  },
  {
   "cell_type": "code",
   "execution_count": 19,
   "metadata": {},
   "outputs": [
    {
     "name": "stdout",
     "output_type": "stream",
     "text": [
      "Enter Fahrenheit 77\n",
      "25\n"
     ]
    }
   ],
   "source": [
    "#ex-2\n",
    "f = int(input(\"Enter Fahrenheit \"))\n",
    "c=int((f - 32) * 5/9)\n",
    "print(c)\n"
   ]
  },
  {
   "cell_type": "code",
   "execution_count": 27,
   "metadata": {},
   "outputs": [
    {
     "name": "stdout",
     "output_type": "stream",
     "text": [
      " Enter Length: 2\n",
      "Enter Bredth2\n",
      "4\n"
     ]
    }
   ],
   "source": [
    "#ex-3\n",
    "\n",
    "l = int(input(\" Enter Length: \"))\n",
    "b = int(input(\"Enter Bredth\"))\n",
    "area=l*b\n",
    "print(area)"
   ]
  },
  {
   "cell_type": "code",
   "execution_count": 29,
   "metadata": {},
   "outputs": [
    {
     "name": "stdout",
     "output_type": "stream",
     "text": [
      "Enter Radius3\n",
      "113.09733552923254\n"
     ]
    }
   ],
   "source": [
    "#ex-4\n",
    "from math import pi\n",
    "r= float(input(\"Enter Radius\"))\n",
    "area=4/3 * pi * r**3\n",
    "print(area)"
   ]
  },
  {
   "cell_type": "code",
   "execution_count": 36,
   "metadata": {},
   "outputs": [
    {
     "name": "stdout",
     "output_type": "stream",
     "text": [
      "Enter Nameali\n",
      "ALI ali Ali\n"
     ]
    }
   ],
   "source": [
    "#ex-5\n",
    "\n",
    "name=input(\"Enter Name\")\n",
    "u= name.upper()\n",
    "l=name.lower()\n",
    "t= name.title()\n",
    "print(u +\" \"+l+\" \"+t)"
   ]
  }
 ],
 "metadata": {
  "kernelspec": {
   "display_name": "Python 3",
   "language": "python",
   "name": "python3"
  },
  "language_info": {
   "codemirror_mode": {
    "name": "ipython",
    "version": 3
   },
   "file_extension": ".py",
   "mimetype": "text/x-python",
   "name": "python",
   "nbconvert_exporter": "python",
   "pygments_lexer": "ipython3",
   "version": "3.7.3"
  }
 },
 "nbformat": 4,
 "nbformat_minor": 2
}
